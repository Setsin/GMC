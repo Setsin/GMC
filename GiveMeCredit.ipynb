{
 "cells": [
  {
   "cell_type": "code",
   "execution_count": 97,
   "metadata": {},
   "outputs": [],
   "source": [
    "from bigml.api import BigML"
   ]
  },
  {
   "cell_type": "code",
   "execution_count": 98,
   "metadata": {
    "scrolled": true
   },
   "outputs": [],
   "source": [
    "api = BigML ('rodolphevdl', 'a47cb24c1d3a04762b4b5db6ece5e4c915efa86c',project = 'project/5d9d9dd05a2139288900006f')"
   ]
  },
  {
   "cell_type": "code",
   "execution_count": 99,
   "metadata": {},
   "outputs": [],
   "source": [
    "source = api.create_source('KFPFull.csv')"
   ]
  },
  {
   "cell_type": "code",
   "execution_count": 100,
   "metadata": {},
   "outputs": [],
   "source": [
    "dataset = api.create_dataset(source)"
   ]
  },
  {
   "cell_type": "code",
   "execution_count": 101,
   "metadata": {},
   "outputs": [],
   "source": [
    "from sklearn.model_selection import train_test_split"
   ]
  },
  {
   "cell_type": "code",
   "execution_count": 102,
   "metadata": {},
   "outputs": [],
   "source": [
    "import sklearn as sk\n",
    "import numpy as np\n",
    "import pandas as pd"
   ]
  },
  {
   "cell_type": "code",
   "execution_count": 103,
   "metadata": {},
   "outputs": [],
   "source": [
    "from sklearn.preprocessing import LabelEncoder, OneHotEncoder\n",
    "from sklearn.model_selection import train_test_split"
   ]
  },
  {
   "cell_type": "code",
   "execution_count": 104,
   "metadata": {},
   "outputs": [],
   "source": [
    "train_dataset = api.create_dataset(dataset, {\"name\": \"KFPFull|train 80% \", \"sample_rate\": 0.8})\n",
    "test_dataset = api.create_dataset(dataset, {\"name\": \"KFPFull|validation 20% \", \"sample_rate\": 0.2})"
   ]
  },
  {
   "cell_type": "code",
   "execution_count": 105,
   "metadata": {},
   "outputs": [],
   "source": [
    "ensemble_args = {\"objective_field\": \"SeriousDlqin2yrs\"}\n",
    "ensemble = api.create_ensemble(train_dataset, ensemble_args)"
   ]
  },
  {
   "cell_type": "code",
   "execution_count": 106,
   "metadata": {},
   "outputs": [],
   "source": [
    "from pandas import read_csv"
   ]
  },
  {
   "cell_type": "code",
   "execution_count": 107,
   "metadata": {},
   "outputs": [],
   "source": [
    "df = read_csv(\"KFPFull.csv\")"
   ]
  },
  {
   "cell_type": "code",
   "execution_count": 114,
   "metadata": {},
   "outputs": [],
   "source": [
    "prediction_args = {\"name\": \"prediction\"}\n",
    "batch_prediction = api.create_batch_prediction(ensemble, train_dataset, {\n",
    "    \"header\": True,\n",
    "    \"all_fields\": True,\n",
    "    \"probabilities\": True})"
   ]
  },
  {
   "cell_type": "code",
   "execution_count": 109,
   "metadata": {},
   "outputs": [
    {
     "data": {
      "text/plain": [
       "True"
      ]
     },
     "execution_count": 109,
     "metadata": {},
     "output_type": "execute_result"
    }
   ],
   "source": [
    "api.ok(batch_prediction)"
   ]
  },
  {
   "cell_type": "code",
   "execution_count": 110,
   "metadata": {},
   "outputs": [
    {
     "data": {
      "text/plain": [
       "'KFPprediction.csv'"
      ]
     },
     "execution_count": 110,
     "metadata": {},
     "output_type": "execute_result"
    }
   ],
   "source": [
    "api.download_batch_prediction(batch_prediction, filename='KFPprediction.csv')"
   ]
  },
  {
   "cell_type": "code",
   "execution_count": 187,
   "metadata": {},
   "outputs": [],
   "source": [
    "df = read_csv('KFPprediction.csv', index_col=0)"
   ]
  },
  {
   "cell_type": "code",
   "execution_count": 197,
   "metadata": {},
   "outputs": [
    {
     "data": {
      "text/html": [
       "<div>\n",
       "<style scoped>\n",
       "    .dataframe tbody tr th:only-of-type {\n",
       "        vertical-align: middle;\n",
       "    }\n",
       "\n",
       "    .dataframe tbody tr th {\n",
       "        vertical-align: top;\n",
       "    }\n",
       "\n",
       "    .dataframe thead th {\n",
       "        text-align: right;\n",
       "    }\n",
       "</style>\n",
       "<table border=\"1\" class=\"dataframe\">\n",
       "  <thead>\n",
       "    <tr style=\"text-align: right;\">\n",
       "      <th></th>\n",
       "      <th>RevolvingUtilizationOfUnsecuredLines</th>\n",
       "      <th>age</th>\n",
       "      <th>NumberOfTime30-59DaysPastDueNotWorse</th>\n",
       "      <th>DebtRatio</th>\n",
       "      <th>DebtAbsolute</th>\n",
       "      <th>MonthlyIncome</th>\n",
       "      <th>MonthlyBalance</th>\n",
       "      <th>MonthlyBalancePerPerson</th>\n",
       "      <th>NumberOfOpenCreditLinesAndLoans</th>\n",
       "      <th>NumberOfTimes90DaysLate</th>\n",
       "      <th>NumberRealEstateLoansOrLines</th>\n",
       "      <th>NumberOfTime60-89DaysPastDueNotWorse</th>\n",
       "      <th>NumberOfDependents</th>\n",
       "      <th>NumberDaysLate</th>\n",
       "      <th>SeriousDlqin2yrs</th>\n",
       "      <th>SeriousDlqin2yrs.1</th>\n",
       "      <th>0 probability</th>\n",
       "      <th>1 probability</th>\n",
       "    </tr>\n",
       "    <tr>\n",
       "      <th>Id</th>\n",
       "      <th></th>\n",
       "      <th></th>\n",
       "      <th></th>\n",
       "      <th></th>\n",
       "      <th></th>\n",
       "      <th></th>\n",
       "      <th></th>\n",
       "      <th></th>\n",
       "      <th></th>\n",
       "      <th></th>\n",
       "      <th></th>\n",
       "      <th></th>\n",
       "      <th></th>\n",
       "      <th></th>\n",
       "      <th></th>\n",
       "      <th></th>\n",
       "      <th></th>\n",
       "      <th></th>\n",
       "    </tr>\n",
       "  </thead>\n",
       "  <tbody>\n",
       "    <tr>\n",
       "      <td>5</td>\n",
       "      <td>0.91</td>\n",
       "      <td>49</td>\n",
       "      <td>1</td>\n",
       "      <td>0.02</td>\n",
       "      <td>1585.0</td>\n",
       "      <td>63588.0</td>\n",
       "      <td>62003.0</td>\n",
       "      <td>62003.0</td>\n",
       "      <td>7</td>\n",
       "      <td>0</td>\n",
       "      <td>1</td>\n",
       "      <td>0</td>\n",
       "      <td>0.0</td>\n",
       "      <td>1</td>\n",
       "      <td>0</td>\n",
       "      <td>0</td>\n",
       "      <td>0.68427</td>\n",
       "      <td>0.31573</td>\n",
       "    </tr>\n",
       "    <tr>\n",
       "      <td>6</td>\n",
       "      <td>0.21</td>\n",
       "      <td>74</td>\n",
       "      <td>0</td>\n",
       "      <td>0.38</td>\n",
       "      <td>1315.0</td>\n",
       "      <td>3500.0</td>\n",
       "      <td>2185.0</td>\n",
       "      <td>1093.0</td>\n",
       "      <td>3</td>\n",
       "      <td>0</td>\n",
       "      <td>1</td>\n",
       "      <td>0</td>\n",
       "      <td>1.0</td>\n",
       "      <td>0</td>\n",
       "      <td>0</td>\n",
       "      <td>0</td>\n",
       "      <td>0.98844</td>\n",
       "      <td>0.01156</td>\n",
       "    </tr>\n",
       "    <tr>\n",
       "      <td>7</td>\n",
       "      <td>0.31</td>\n",
       "      <td>57</td>\n",
       "      <td>0</td>\n",
       "      <td>5710.00</td>\n",
       "      <td>5710.0</td>\n",
       "      <td>NaN</td>\n",
       "      <td>NaN</td>\n",
       "      <td>NaN</td>\n",
       "      <td>8</td>\n",
       "      <td>0</td>\n",
       "      <td>3</td>\n",
       "      <td>0</td>\n",
       "      <td>0.0</td>\n",
       "      <td>0</td>\n",
       "      <td>0</td>\n",
       "      <td>0</td>\n",
       "      <td>0.98731</td>\n",
       "      <td>0.01269</td>\n",
       "    </tr>\n",
       "    <tr>\n",
       "      <td>8</td>\n",
       "      <td>0.75</td>\n",
       "      <td>39</td>\n",
       "      <td>0</td>\n",
       "      <td>0.21</td>\n",
       "      <td>735.0</td>\n",
       "      <td>3500.0</td>\n",
       "      <td>2765.0</td>\n",
       "      <td>2765.0</td>\n",
       "      <td>8</td>\n",
       "      <td>0</td>\n",
       "      <td>0</td>\n",
       "      <td>0</td>\n",
       "      <td>0.0</td>\n",
       "      <td>0</td>\n",
       "      <td>0</td>\n",
       "      <td>0</td>\n",
       "      <td>0.93847</td>\n",
       "      <td>0.06153</td>\n",
       "    </tr>\n",
       "    <tr>\n",
       "      <td>9</td>\n",
       "      <td>0.12</td>\n",
       "      <td>27</td>\n",
       "      <td>0</td>\n",
       "      <td>46.00</td>\n",
       "      <td>46.0</td>\n",
       "      <td>NaN</td>\n",
       "      <td>NaN</td>\n",
       "      <td>NaN</td>\n",
       "      <td>2</td>\n",
       "      <td>0</td>\n",
       "      <td>0</td>\n",
       "      <td>0</td>\n",
       "      <td>NaN</td>\n",
       "      <td>0</td>\n",
       "      <td>0</td>\n",
       "      <td>0</td>\n",
       "      <td>0.98259</td>\n",
       "      <td>0.01741</td>\n",
       "    </tr>\n",
       "    <tr>\n",
       "      <td>...</td>\n",
       "      <td>...</td>\n",
       "      <td>...</td>\n",
       "      <td>...</td>\n",
       "      <td>...</td>\n",
       "      <td>...</td>\n",
       "      <td>...</td>\n",
       "      <td>...</td>\n",
       "      <td>...</td>\n",
       "      <td>...</td>\n",
       "      <td>...</td>\n",
       "      <td>...</td>\n",
       "      <td>...</td>\n",
       "      <td>...</td>\n",
       "      <td>...</td>\n",
       "      <td>...</td>\n",
       "      <td>...</td>\n",
       "      <td>...</td>\n",
       "      <td>...</td>\n",
       "    </tr>\n",
       "    <tr>\n",
       "      <td>149996</td>\n",
       "      <td>0.04</td>\n",
       "      <td>74</td>\n",
       "      <td>0</td>\n",
       "      <td>0.23</td>\n",
       "      <td>473.0</td>\n",
       "      <td>2100.0</td>\n",
       "      <td>1627.0</td>\n",
       "      <td>1627.0</td>\n",
       "      <td>4</td>\n",
       "      <td>0</td>\n",
       "      <td>1</td>\n",
       "      <td>0</td>\n",
       "      <td>0.0</td>\n",
       "      <td>0</td>\n",
       "      <td>0</td>\n",
       "      <td>0</td>\n",
       "      <td>0.99567</td>\n",
       "      <td>0.00434</td>\n",
       "    </tr>\n",
       "    <tr>\n",
       "      <td>149997</td>\n",
       "      <td>0.30</td>\n",
       "      <td>44</td>\n",
       "      <td>0</td>\n",
       "      <td>0.72</td>\n",
       "      <td>4001.0</td>\n",
       "      <td>5584.0</td>\n",
       "      <td>1583.0</td>\n",
       "      <td>528.0</td>\n",
       "      <td>4</td>\n",
       "      <td>0</td>\n",
       "      <td>1</td>\n",
       "      <td>0</td>\n",
       "      <td>2.0</td>\n",
       "      <td>0</td>\n",
       "      <td>0</td>\n",
       "      <td>0</td>\n",
       "      <td>0.97666</td>\n",
       "      <td>0.02334</td>\n",
       "    </tr>\n",
       "    <tr>\n",
       "      <td>149998</td>\n",
       "      <td>0.25</td>\n",
       "      <td>58</td>\n",
       "      <td>0</td>\n",
       "      <td>3870.00</td>\n",
       "      <td>3870.0</td>\n",
       "      <td>NaN</td>\n",
       "      <td>NaN</td>\n",
       "      <td>NaN</td>\n",
       "      <td>18</td>\n",
       "      <td>0</td>\n",
       "      <td>1</td>\n",
       "      <td>0</td>\n",
       "      <td>0.0</td>\n",
       "      <td>0</td>\n",
       "      <td>0</td>\n",
       "      <td>0</td>\n",
       "      <td>0.98490</td>\n",
       "      <td>0.01510</td>\n",
       "    </tr>\n",
       "    <tr>\n",
       "      <td>149999</td>\n",
       "      <td>0.00</td>\n",
       "      <td>30</td>\n",
       "      <td>0</td>\n",
       "      <td>0.00</td>\n",
       "      <td>0.0</td>\n",
       "      <td>5716.0</td>\n",
       "      <td>5716.0</td>\n",
       "      <td>5716.0</td>\n",
       "      <td>4</td>\n",
       "      <td>0</td>\n",
       "      <td>0</td>\n",
       "      <td>0</td>\n",
       "      <td>0.0</td>\n",
       "      <td>0</td>\n",
       "      <td>0</td>\n",
       "      <td>0</td>\n",
       "      <td>0.99392</td>\n",
       "      <td>0.00608</td>\n",
       "    </tr>\n",
       "    <tr>\n",
       "      <td>150000</td>\n",
       "      <td>0.85</td>\n",
       "      <td>64</td>\n",
       "      <td>0</td>\n",
       "      <td>0.25</td>\n",
       "      <td>2039.0</td>\n",
       "      <td>8158.0</td>\n",
       "      <td>6119.0</td>\n",
       "      <td>6119.0</td>\n",
       "      <td>8</td>\n",
       "      <td>0</td>\n",
       "      <td>2</td>\n",
       "      <td>0</td>\n",
       "      <td>0.0</td>\n",
       "      <td>0</td>\n",
       "      <td>0</td>\n",
       "      <td>0</td>\n",
       "      <td>0.96371</td>\n",
       "      <td>0.03629</td>\n",
       "    </tr>\n",
       "  </tbody>\n",
       "</table>\n",
       "<p>120000 rows × 18 columns</p>\n",
       "</div>"
      ],
      "text/plain": [
       "        RevolvingUtilizationOfUnsecuredLines  age  \\\n",
       "Id                                                  \n",
       "5                                       0.91   49   \n",
       "6                                       0.21   74   \n",
       "7                                       0.31   57   \n",
       "8                                       0.75   39   \n",
       "9                                       0.12   27   \n",
       "...                                      ...  ...   \n",
       "149996                                  0.04   74   \n",
       "149997                                  0.30   44   \n",
       "149998                                  0.25   58   \n",
       "149999                                  0.00   30   \n",
       "150000                                  0.85   64   \n",
       "\n",
       "        NumberOfTime30-59DaysPastDueNotWorse  DebtRatio  DebtAbsolute  \\\n",
       "Id                                                                      \n",
       "5                                          1       0.02        1585.0   \n",
       "6                                          0       0.38        1315.0   \n",
       "7                                          0    5710.00        5710.0   \n",
       "8                                          0       0.21         735.0   \n",
       "9                                          0      46.00          46.0   \n",
       "...                                      ...        ...           ...   \n",
       "149996                                     0       0.23         473.0   \n",
       "149997                                     0       0.72        4001.0   \n",
       "149998                                     0    3870.00        3870.0   \n",
       "149999                                     0       0.00           0.0   \n",
       "150000                                     0       0.25        2039.0   \n",
       "\n",
       "        MonthlyIncome  MonthlyBalance  MonthlyBalancePerPerson  \\\n",
       "Id                                                               \n",
       "5             63588.0         62003.0                  62003.0   \n",
       "6              3500.0          2185.0                   1093.0   \n",
       "7                 NaN             NaN                      NaN   \n",
       "8              3500.0          2765.0                   2765.0   \n",
       "9                 NaN             NaN                      NaN   \n",
       "...               ...             ...                      ...   \n",
       "149996         2100.0          1627.0                   1627.0   \n",
       "149997         5584.0          1583.0                    528.0   \n",
       "149998            NaN             NaN                      NaN   \n",
       "149999         5716.0          5716.0                   5716.0   \n",
       "150000         8158.0          6119.0                   6119.0   \n",
       "\n",
       "        NumberOfOpenCreditLinesAndLoans  NumberOfTimes90DaysLate  \\\n",
       "Id                                                                 \n",
       "5                                     7                        0   \n",
       "6                                     3                        0   \n",
       "7                                     8                        0   \n",
       "8                                     8                        0   \n",
       "9                                     2                        0   \n",
       "...                                 ...                      ...   \n",
       "149996                                4                        0   \n",
       "149997                                4                        0   \n",
       "149998                               18                        0   \n",
       "149999                                4                        0   \n",
       "150000                                8                        0   \n",
       "\n",
       "        NumberRealEstateLoansOrLines  NumberOfTime60-89DaysPastDueNotWorse  \\\n",
       "Id                                                                           \n",
       "5                                  1                                     0   \n",
       "6                                  1                                     0   \n",
       "7                                  3                                     0   \n",
       "8                                  0                                     0   \n",
       "9                                  0                                     0   \n",
       "...                              ...                                   ...   \n",
       "149996                             1                                     0   \n",
       "149997                             1                                     0   \n",
       "149998                             1                                     0   \n",
       "149999                             0                                     0   \n",
       "150000                             2                                     0   \n",
       "\n",
       "        NumberOfDependents  NumberDaysLate  SeriousDlqin2yrs  \\\n",
       "Id                                                             \n",
       "5                      0.0               1                 0   \n",
       "6                      1.0               0                 0   \n",
       "7                      0.0               0                 0   \n",
       "8                      0.0               0                 0   \n",
       "9                      NaN               0                 0   \n",
       "...                    ...             ...               ...   \n",
       "149996                 0.0               0                 0   \n",
       "149997                 2.0               0                 0   \n",
       "149998                 0.0               0                 0   \n",
       "149999                 0.0               0                 0   \n",
       "150000                 0.0               0                 0   \n",
       "\n",
       "        SeriousDlqin2yrs.1  0 probability  1 probability  \n",
       "Id                                                        \n",
       "5                        0        0.68427        0.31573  \n",
       "6                        0        0.98844        0.01156  \n",
       "7                        0        0.98731        0.01269  \n",
       "8                        0        0.93847        0.06153  \n",
       "9                        0        0.98259        0.01741  \n",
       "...                    ...            ...            ...  \n",
       "149996                   0        0.99567        0.00434  \n",
       "149997                   0        0.97666        0.02334  \n",
       "149998                   0        0.98490        0.01510  \n",
       "149999                   0        0.99392        0.00608  \n",
       "150000                   0        0.96371        0.03629  \n",
       "\n",
       "[120000 rows x 18 columns]"
      ]
     },
     "execution_count": 197,
     "metadata": {},
     "output_type": "execute_result"
    }
   ],
   "source": [
    "df"
   ]
  },
  {
   "cell_type": "code",
   "execution_count": 202,
   "metadata": {},
   "outputs": [],
   "source": [
    "df2 = df[['1 probability']]"
   ]
  },
  {
   "cell_type": "code",
   "execution_count": 194,
   "metadata": {},
   "outputs": [],
   "source": [
    "df2.index.names = ['Id']"
   ]
  },
  {
   "cell_type": "code",
   "execution_count": 204,
   "metadata": {},
   "outputs": [],
   "source": [
    "df2.rename(columns = {'1 probability':'Probability'}, inplace=True)"
   ]
  },
  {
   "cell_type": "code",
   "execution_count": 207,
   "metadata": {},
   "outputs": [],
   "source": [
    "df2.to_csv('kaggle-submission.csv')"
   ]
  },
  {
   "cell_type": "code",
   "execution_count": 210,
   "metadata": {},
   "outputs": [
    {
     "ename": "SyntaxError",
     "evalue": "invalid syntax (<ipython-input-210-a9971c7c4dcc>, line 1)",
     "output_type": "error",
     "traceback": [
      "\u001b[0;36m  File \u001b[0;32m\"<ipython-input-210-a9971c7c4dcc>\"\u001b[0;36m, line \u001b[0;32m1\u001b[0m\n\u001b[0;31m    api = kaggle competitions download -c GiveMeSomeCredit\u001b[0m\n\u001b[0m                            ^\u001b[0m\n\u001b[0;31mSyntaxError\u001b[0m\u001b[0;31m:\u001b[0m invalid syntax\n"
     ]
    }
   ],
   "source": [
    "api = kaggle competitions download -c GiveMeSomeCredit"
   ]
  },
  {
   "cell_type": "code",
   "execution_count": null,
   "metadata": {},
   "outputs": [],
   "source": [
    "import kaggle kaggle competitions download -c GiveMeSomeCredit\n",
    "submission_file = \"kaggle-submission.csv\"\n",
    "test_predictions.to_csv(submission_file)\n",
    "kaggle.api.competition_submit(submission_file, \"BigML ensemble\", \"house-prices-advanced-regression-techniques\")"
   ]
  }
 ],
 "metadata": {
  "kernelspec": {
   "display_name": "Python 3",
   "language": "python",
   "name": "python3"
  },
  "language_info": {
   "codemirror_mode": {
    "name": "ipython",
    "version": 3
   },
   "file_extension": ".py",
   "mimetype": "text/x-python",
   "name": "python",
   "nbconvert_exporter": "python",
   "pygments_lexer": "ipython3",
   "version": "3.7.3"
  }
 },
 "nbformat": 4,
 "nbformat_minor": 2
}
